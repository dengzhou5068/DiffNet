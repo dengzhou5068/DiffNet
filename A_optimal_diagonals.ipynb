{
 "cells": [
  {
   "cell_type": "code",
   "execution_count": 1,
   "metadata": {
    "collapsed": true
   },
   "outputs": [],
   "source": [
    "import diffnet as dn\n",
    "from cvxopt import matrix"
   ]
  },
  {
   "cell_type": "code",
   "execution_count": 2,
   "metadata": {
    "collapsed": true
   },
   "outputs": [],
   "source": [
    "import numpy as np"
   ]
  },
  {
   "cell_type": "code",
   "execution_count": 3,
   "metadata": {
    "collapsed": true
   },
   "outputs": [],
   "source": [
    "K = 5\n",
    "s = np.random.rand( K, K)\n",
    "s = 0.5*(s.T + s)\n",
    "# for i in range(K): s[i,i] = np.inf"
   ]
  },
  {
   "cell_type": "code",
   "execution_count": 4,
   "metadata": {},
   "outputs": [
    {
     "data": {
      "text/plain": [
       "array([[0.31606839, 0.89819236, 0.89703422, 0.30095392, 0.54763611],\n",
       "       [0.89819236, 0.70860277, 0.77928054, 0.47375313, 0.64210208],\n",
       "       [0.89703422, 0.77928054, 0.8733601 , 0.08316998, 0.12200628],\n",
       "       [0.30095392, 0.47375313, 0.08316998, 0.41130463, 0.29626953],\n",
       "       [0.54763611, 0.64210208, 0.12200628, 0.29626953, 0.63852698]])"
      ]
     },
     "execution_count": 4,
     "metadata": {},
     "output_type": "execute_result"
    }
   ],
   "source": [
    "s"
   ]
  },
  {
   "cell_type": "code",
   "execution_count": 5,
   "metadata": {},
   "outputs": [
    {
     "name": "stdout",
     "output_type": "stream",
     "text": [
      "     pcost       dcost       gap    pres   dres   k/t\n",
      " 0:  0.0000e+00 -0.0000e+00  1e+02  4e+00  7e+02  1e+00\n",
      " 1:  3.3375e+00  3.6649e+00  1e+01  6e-01  1e+02  5e-01\n",
      " 2:  3.4839e+00  3.7049e+00  8e+00  4e-01  6e+01  3e-01\n",
      " 3:  3.4750e+00  3.5654e+00  3e+00  1e-01  2e+01  1e-01\n",
      " 4:  3.3033e+00  3.3647e+00  2e+00  7e-02  1e+01  8e-02\n",
      " 5:  3.3956e+00  3.4196e+00  1e+00  4e-02  6e+00  3e-02\n",
      " 6:  3.2196e+00  3.2352e+00  8e-01  2e-02  3e+00  2e-02\n",
      " 7:  3.1761e+00  3.1793e+00  2e-01  3e-03  6e-01  4e-03\n",
      " 8:  3.1702e+00  3.1708e+00  3e-02  6e-04  1e-01  7e-04\n",
      " 9:  3.1686e+00  3.1686e+00  4e-03  8e-05  1e-02  1e-04\n",
      "10:  3.1683e+00  3.1683e+00  4e-04  7e-06  1e-03  8e-06\n",
      "11:  3.1683e+00  3.1683e+00  8e-06  2e-07  3e-05  2e-07\n",
      "12:  3.1683e+00  3.1683e+00  6e-07  1e-08  2e-06  1e-08\n",
      "13:  3.1683e+00  3.1683e+00  4e-08  8e-10  1e-07  1e-09\n",
      "Optimal solution found.\n"
     ]
    }
   ],
   "source": [
    "n = dn.A_optimize( matrix(s))"
   ]
  },
  {
   "cell_type": "code",
   "execution_count": 6,
   "metadata": {},
   "outputs": [
    {
     "name": "stdout",
     "output_type": "stream",
     "text": [
      "[ 1.41e-01  1.94e-10 -3.02e-11  8.84e-02  4.21e-10]\n",
      "[ 1.94e-10  1.05e-01  9.93e-11  2.05e-01  5.44e-10]\n",
      "[-3.02e-11  9.93e-11  3.05e-11  6.61e-02  6.85e-02]\n",
      "[ 8.84e-02  2.05e-01  6.61e-02  3.26e-01  7.75e-11]\n",
      "[ 4.21e-10  5.44e-10  6.85e-02  7.75e-11  8.75e-10]\n",
      "\n"
     ]
    }
   ],
   "source": [
    "print(n)"
   ]
  },
  {
   "cell_type": "code",
   "execution_count": 7,
   "metadata": {},
   "outputs": [
    {
     "data": {
      "text/plain": [
       "3.168258731683343"
      ]
     },
     "execution_count": 7,
     "metadata": {},
     "output_type": "execute_result"
    }
   ],
   "source": [
    "np.trace(dn.covariance( n/s**2))"
   ]
  },
  {
   "cell_type": "code",
   "execution_count": 8,
   "metadata": {},
   "outputs": [
    {
     "data": {
      "text/plain": [
       "array([[0.48064717, 0.12440851, 0.15276036, 0.15276036, 0.15276036],\n",
       "       [0.12440851, 1.13881256, 0.30465855, 0.30465855, 0.30465855],\n",
       "       [0.15276036, 0.30465855, 0.47877161, 0.37408816, 0.47877161],\n",
       "       [0.15276036, 0.30465855, 0.37408816, 0.37408816, 0.37408816],\n",
       "       [0.15276036, 0.30465855, 0.47877161, 0.37408816, 0.69593923]])"
      ]
     },
     "execution_count": 8,
     "metadata": {},
     "output_type": "execute_result"
    }
   ],
   "source": [
    "dn.covariance( n/s**2)"
   ]
  },
  {
   "cell_type": "markdown",
   "metadata": {},
   "source": [
    "Clearly, the diagonal elements are not the same."
   ]
  },
  {
   "cell_type": "code",
   "execution_count": 9,
   "metadata": {
    "collapsed": true
   },
   "outputs": [],
   "source": [
    "s = np.ones( (K, K)) + 0.1*(np.random.rand( K, K) - 0.5)\n",
    "s = 0.5*(s + s.T)"
   ]
  },
  {
   "cell_type": "code",
   "execution_count": 10,
   "metadata": {},
   "outputs": [
    {
     "data": {
      "text/plain": [
       "array([[0.97351052, 0.96050154, 1.01524271, 1.00311652, 1.00580902],\n",
       "       [0.96050154, 0.95744738, 1.00080002, 1.03008442, 0.97986122],\n",
       "       [1.01524271, 1.00080002, 1.01532568, 1.01995957, 1.00801957],\n",
       "       [1.00311652, 1.03008442, 1.01995957, 1.02903125, 1.01919704],\n",
       "       [1.00580902, 0.97986122, 1.00801957, 1.01919704, 0.99439068]])"
      ]
     },
     "execution_count": 10,
     "metadata": {},
     "output_type": "execute_result"
    }
   ],
   "source": [
    "s"
   ]
  },
  {
   "cell_type": "code",
   "execution_count": 11,
   "metadata": {},
   "outputs": [
    {
     "name": "stdout",
     "output_type": "stream",
     "text": [
      "     pcost       dcost       gap    pres   dres   k/t\n",
      " 0:  0.0000e+00 -0.0000e+00  1e+02  4e+00  2e+01  1e+00\n",
      " 1:  4.1070e+00  4.4992e+00  2e+01  1e+00  4e+00  6e-01\n",
      " 2:  8.1702e+00  1.0088e+01  2e+02  2e+00  7e+00  2e+00\n",
      " 3:  1.3893e+01  1.4048e+01  1e+01  3e-01  1e+00  2e-01\n",
      " 4:  1.6870e+01  1.6949e+01  6e+00  1e-01  5e-01  1e-01\n",
      " 5:  1.8994e+01  1.9039e+01  3e+00  5e-02  2e-01  6e-02\n",
      " 6:  2.0385e+01  2.0392e+01  4e-01  7e-03  3e-02  8e-03\n",
      " 7:  2.0644e+01  2.0645e+01  5e-02  1e-03  4e-03  1e-03\n",
      " 8:  2.0685e+01  2.0685e+01  2e-03  3e-05  1e-04  4e-05\n",
      " 9:  2.0686e+01  2.0686e+01  1e-04  2e-06  7e-06  2e-06\n",
      "10:  2.0686e+01  2.0686e+01  4e-06  7e-08  3e-07  9e-08\n",
      "Optimal solution found.\n"
     ]
    }
   ],
   "source": [
    "n = dn.A_optimize( matrix( s))"
   ]
  },
  {
   "cell_type": "code",
   "execution_count": 12,
   "metadata": {},
   "outputs": [
    {
     "data": {
      "text/plain": [
       "array([[4.04384771, 0.9226813 , 0.87485767, 0.94890855, 0.85672638],\n",
       "       [0.9226813 , 3.97632199, 0.89016928, 0.82843275, 0.90830927],\n",
       "       [0.87485767, 0.89016928, 4.23165798, 0.98485259, 0.94333631],\n",
       "       [0.94890855, 0.82843275, 0.98485259, 4.29673937, 0.9415661 ],\n",
       "       [0.85672638, 0.90830927, 0.94333631, 0.9415661 , 4.13744   ]])"
      ]
     },
     "execution_count": 12,
     "metadata": {},
     "output_type": "execute_result"
    }
   ],
   "source": [
    "dn.covariance( n/s**2)"
   ]
  },
  {
   "cell_type": "markdown",
   "metadata": {},
   "source": [
    "The observed approximately equal diagonal elements may be attributable to similar $s_{ij}$ values in all the relative binding free energy calculations."
   ]
  },
  {
   "cell_type": "code",
   "execution_count": null,
   "metadata": {
    "collapsed": true
   },
   "outputs": [],
   "source": []
  }
 ],
 "metadata": {
  "kernelspec": {
   "display_name": "Python 2",
   "language": "python",
   "name": "python2"
  },
  "language_info": {
   "codemirror_mode": {
    "name": "ipython",
    "version": 2
   },
   "file_extension": ".py",
   "mimetype": "text/x-python",
   "name": "python",
   "nbconvert_exporter": "python",
   "pygments_lexer": "ipython2",
   "version": "2.7.15"
  }
 },
 "nbformat": 4,
 "nbformat_minor": 2
}
